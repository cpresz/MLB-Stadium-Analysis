{
  "nbformat": 4,
  "nbformat_minor": 0,
  "metadata": {
    "colab": {
      "provenance": [],
      "collapsed_sections": []
    },
    "kernelspec": {
      "name": "python3",
      "display_name": "Python 3"
    },
    "language_info": {
      "name": "python"
    }
  },
  "cells": [
    {
      "cell_type": "markdown",
      "source": [
        "# **MLB Analysis: Which Stadiums Provide the Biggest Offensive Advantage?**\n",
        "\n",
        "Carly Presz and Evan Hendrickson\n",
        "\n",
        "[Link to Website](https://cpresz.github.io/)\n",
        "\n"
      ],
      "metadata": {
        "id": "QfdAiE-2d6tT"
      }
    },
    {
      "cell_type": "markdown",
      "source": [
        "## **Project Goals**\n",
        "\n",
        "The goal of this project is to determine which MLB stadiums are the most advantageous to hitters by analyzing batting statistics over the past 5 MLB seasons.\n",
        "\n",
        "We will be working with a dataset from [StatHead Baseball](https://stathead.com/baseball/split_finder.cgi?request=1&match=season&order_by_asc=0&order_by=AB&year_min=2018&year_max=2022&split_1=locat%3Asite&split_total_comp=gt&class=player&type=b&age_min=0&age_max=99&season_start=1&season_end=-1&location=pob&locationMatch=is) that contains individual player batting statistics split by stadium for each season. Our plan is to use players' batting averages over a season to calculate their expected number of hits in a particular stadium. By comparing expected to actual hit value, we will be able to examine the stadiums in which players tend to outperform their season averages versus those in which players tend to underperform, and by how much their performances differ from what is expected. There are several ways that we can potentially expand on this analysis. We plan on factoring in the player's handedness in order to examine which stadiums favor right-handed versus left-handed hitters. We can also consider other hitting metrics such as total bases or home runs to determine the most home run-friendly ballparks. Additionally, we are considering working with a dataset involving stadium dimensions, including fence height, square footage of fair and foul territory, and outfield dimensions. The dataset can be found [here](http://www.andrewclem.com/Baseball/Stadium_statistics.html). This would allow us to look for correlations between the dimensionalities of the stadiums we find to be most advantageous to hitters. \n"
      ],
      "metadata": {
        "id": "YIL0dTu2nAZ2"
      }
    },
    {
      "cell_type": "markdown",
      "source": [
        "Need a refresher on baseball stats? Take a look at [MLB's Standard Stats Glossary](https://www.mlb.com/glossary/standard-stats)."
      ],
      "metadata": {
        "id": "THJagmWrk3du"
      }
    },
    {
      "cell_type": "markdown",
      "source": [
        "## **Collaboration Plan**\n",
        "\n",
        "Our team plans to meet at least once a week via Zoom or in-person to work on this project, finalize our project objective and features, and work to solve issues that may arise. Our main form of communication will be through text to ensure that we are both up to date on each other’s progress and contributions to the project. We will be using a shared Github repository, a shared Google Drive folder, and Google Colab to easily access and store our datasets, code, and notes regarding our project deliverables. \n",
        "\n"
      ],
      "metadata": {
        "id": "ojkq_lle_URl"
      }
    },
    {
      "cell_type": "markdown",
      "source": [
        "## **ETL (Extraction, Transform, and Load)**\n",
        "\n"
      ],
      "metadata": {
        "id": "iKOqyHI_1KRu"
      }
    },
    {
      "cell_type": "markdown",
      "source": [
        "The below dataset was downloaded from [StatHead Baseball](https://stathead.com/baseball/split_finder.cgi?request=1&match=season&order_by_asc=0&order_by=AB&year_min=2018&year_max=2022&split_1=locat%3Asite&split_total_comp=gt&class=player&type=b&age_min=0&age_max=99&season_start=1&season_end=-1&location=pob&locationMatch=is) and includes player statitistics in each ballpark for each of the last 5 seasons. For now, we want to focus on the basic offensive categories such as at-bats, hits, and batting average. We will need to tidy this data by dropping unneccessary advanced hitting statistics and renaming some variables for clarity. It is important to note that all of the statistics in this dataset are on a per-stadium basis. There are no season total stats included in this dataset - those will be brought in later."
      ],
      "metadata": {
        "id": "B0jVx49TMpRd"
      }
    },
    {
      "cell_type": "code",
      "source": [
        "import pandas as pd\n",
        "park_stats = pd.read_csv('Player_Batting_Split_Data.csv');\n",
        "park_stats.head()"
      ],
      "metadata": {
        "colab": {
          "base_uri": "https://localhost:8080/",
          "height": 235
        },
        "id": "7XHVFTPp0Xp3",
        "outputId": "d34ddf2d-e4c8-43de-df21-22a5df2350e6"
      },
      "execution_count": 225,
      "outputs": [
        {
          "output_type": "execute_result",
          "data": {
            "text/plain": [
              "  Rk           Player             Split  Year   G   AB   PA   R    H  2B  ...  \\\n",
              "0  1  Whit Merrifield  KCR-KauffmanStad  2021  81  333  363  54   95  23  ...   \n",
              "1  2  Whit Merrifield  KCR-KauffmanStad  2019  80  330  356  51  101  19  ...   \n",
              "2  3    Marcus Semien  TEX-GlbLifeField  2022  80  324  353  47   68  15  ...   \n",
              "3  4      Trea Turner    WSN-Natls Park  2018  81  323  367  53   91  16  ...   \n",
              "4  5     Ozzie Albies     ATL-Truist Pk  2021  79  319  348  60   89  24  ...   \n",
              "\n",
              "    TB  GDP  HBP  SH  SF  IBB  ROE  BAbip  tOPS+  sOPS+  \n",
              "0  135    1    1   0   6    0    4  0.318  106.0     99  \n",
              "1  144    3    3   0   2    2    4  0.353   95.0    108  \n",
              "2  115    2    0   0   1    0    6  0.224   72.0     74  \n",
              "3  139    3    1   1   0    3    7  0.324  110.0    110  \n",
              "4  172    0    2   0   4    2    2  0.304  116.0    135  \n",
              "\n",
              "[5 rows x 27 columns]"
            ],
            "text/html": [
              "\n",
              "  <div id=\"df-0b165ca7-7290-4fb6-a4c9-b77d43fdebce\">\n",
              "    <div class=\"colab-df-container\">\n",
              "      <div>\n",
              "<style scoped>\n",
              "    .dataframe tbody tr th:only-of-type {\n",
              "        vertical-align: middle;\n",
              "    }\n",
              "\n",
              "    .dataframe tbody tr th {\n",
              "        vertical-align: top;\n",
              "    }\n",
              "\n",
              "    .dataframe thead th {\n",
              "        text-align: right;\n",
              "    }\n",
              "</style>\n",
              "<table border=\"1\" class=\"dataframe\">\n",
              "  <thead>\n",
              "    <tr style=\"text-align: right;\">\n",
              "      <th></th>\n",
              "      <th>Rk</th>\n",
              "      <th>Player</th>\n",
              "      <th>Split</th>\n",
              "      <th>Year</th>\n",
              "      <th>G</th>\n",
              "      <th>AB</th>\n",
              "      <th>PA</th>\n",
              "      <th>R</th>\n",
              "      <th>H</th>\n",
              "      <th>2B</th>\n",
              "      <th>...</th>\n",
              "      <th>TB</th>\n",
              "      <th>GDP</th>\n",
              "      <th>HBP</th>\n",
              "      <th>SH</th>\n",
              "      <th>SF</th>\n",
              "      <th>IBB</th>\n",
              "      <th>ROE</th>\n",
              "      <th>BAbip</th>\n",
              "      <th>tOPS+</th>\n",
              "      <th>sOPS+</th>\n",
              "    </tr>\n",
              "  </thead>\n",
              "  <tbody>\n",
              "    <tr>\n",
              "      <th>0</th>\n",
              "      <td>1</td>\n",
              "      <td>Whit Merrifield</td>\n",
              "      <td>KCR-KauffmanStad</td>\n",
              "      <td>2021</td>\n",
              "      <td>81</td>\n",
              "      <td>333</td>\n",
              "      <td>363</td>\n",
              "      <td>54</td>\n",
              "      <td>95</td>\n",
              "      <td>23</td>\n",
              "      <td>...</td>\n",
              "      <td>135</td>\n",
              "      <td>1</td>\n",
              "      <td>1</td>\n",
              "      <td>0</td>\n",
              "      <td>6</td>\n",
              "      <td>0</td>\n",
              "      <td>4</td>\n",
              "      <td>0.318</td>\n",
              "      <td>106.0</td>\n",
              "      <td>99</td>\n",
              "    </tr>\n",
              "    <tr>\n",
              "      <th>1</th>\n",
              "      <td>2</td>\n",
              "      <td>Whit Merrifield</td>\n",
              "      <td>KCR-KauffmanStad</td>\n",
              "      <td>2019</td>\n",
              "      <td>80</td>\n",
              "      <td>330</td>\n",
              "      <td>356</td>\n",
              "      <td>51</td>\n",
              "      <td>101</td>\n",
              "      <td>19</td>\n",
              "      <td>...</td>\n",
              "      <td>144</td>\n",
              "      <td>3</td>\n",
              "      <td>3</td>\n",
              "      <td>0</td>\n",
              "      <td>2</td>\n",
              "      <td>2</td>\n",
              "      <td>4</td>\n",
              "      <td>0.353</td>\n",
              "      <td>95.0</td>\n",
              "      <td>108</td>\n",
              "    </tr>\n",
              "    <tr>\n",
              "      <th>2</th>\n",
              "      <td>3</td>\n",
              "      <td>Marcus Semien</td>\n",
              "      <td>TEX-GlbLifeField</td>\n",
              "      <td>2022</td>\n",
              "      <td>80</td>\n",
              "      <td>324</td>\n",
              "      <td>353</td>\n",
              "      <td>47</td>\n",
              "      <td>68</td>\n",
              "      <td>15</td>\n",
              "      <td>...</td>\n",
              "      <td>115</td>\n",
              "      <td>2</td>\n",
              "      <td>0</td>\n",
              "      <td>0</td>\n",
              "      <td>1</td>\n",
              "      <td>0</td>\n",
              "      <td>6</td>\n",
              "      <td>0.224</td>\n",
              "      <td>72.0</td>\n",
              "      <td>74</td>\n",
              "    </tr>\n",
              "    <tr>\n",
              "      <th>3</th>\n",
              "      <td>4</td>\n",
              "      <td>Trea Turner</td>\n",
              "      <td>WSN-Natls Park</td>\n",
              "      <td>2018</td>\n",
              "      <td>81</td>\n",
              "      <td>323</td>\n",
              "      <td>367</td>\n",
              "      <td>53</td>\n",
              "      <td>91</td>\n",
              "      <td>16</td>\n",
              "      <td>...</td>\n",
              "      <td>139</td>\n",
              "      <td>3</td>\n",
              "      <td>1</td>\n",
              "      <td>1</td>\n",
              "      <td>0</td>\n",
              "      <td>3</td>\n",
              "      <td>7</td>\n",
              "      <td>0.324</td>\n",
              "      <td>110.0</td>\n",
              "      <td>110</td>\n",
              "    </tr>\n",
              "    <tr>\n",
              "      <th>4</th>\n",
              "      <td>5</td>\n",
              "      <td>Ozzie Albies</td>\n",
              "      <td>ATL-Truist Pk</td>\n",
              "      <td>2021</td>\n",
              "      <td>79</td>\n",
              "      <td>319</td>\n",
              "      <td>348</td>\n",
              "      <td>60</td>\n",
              "      <td>89</td>\n",
              "      <td>24</td>\n",
              "      <td>...</td>\n",
              "      <td>172</td>\n",
              "      <td>0</td>\n",
              "      <td>2</td>\n",
              "      <td>0</td>\n",
              "      <td>4</td>\n",
              "      <td>2</td>\n",
              "      <td>2</td>\n",
              "      <td>0.304</td>\n",
              "      <td>116.0</td>\n",
              "      <td>135</td>\n",
              "    </tr>\n",
              "  </tbody>\n",
              "</table>\n",
              "<p>5 rows × 27 columns</p>\n",
              "</div>\n",
              "      <button class=\"colab-df-convert\" onclick=\"convertToInteractive('df-0b165ca7-7290-4fb6-a4c9-b77d43fdebce')\"\n",
              "              title=\"Convert this dataframe to an interactive table.\"\n",
              "              style=\"display:none;\">\n",
              "        \n",
              "  <svg xmlns=\"http://www.w3.org/2000/svg\" height=\"24px\"viewBox=\"0 0 24 24\"\n",
              "       width=\"24px\">\n",
              "    <path d=\"M0 0h24v24H0V0z\" fill=\"none\"/>\n",
              "    <path d=\"M18.56 5.44l.94 2.06.94-2.06 2.06-.94-2.06-.94-.94-2.06-.94 2.06-2.06.94zm-11 1L8.5 8.5l.94-2.06 2.06-.94-2.06-.94L8.5 2.5l-.94 2.06-2.06.94zm10 10l.94 2.06.94-2.06 2.06-.94-2.06-.94-.94-2.06-.94 2.06-2.06.94z\"/><path d=\"M17.41 7.96l-1.37-1.37c-.4-.4-.92-.59-1.43-.59-.52 0-1.04.2-1.43.59L10.3 9.45l-7.72 7.72c-.78.78-.78 2.05 0 2.83L4 21.41c.39.39.9.59 1.41.59.51 0 1.02-.2 1.41-.59l7.78-7.78 2.81-2.81c.8-.78.8-2.07 0-2.86zM5.41 20L4 18.59l7.72-7.72 1.47 1.35L5.41 20z\"/>\n",
              "  </svg>\n",
              "      </button>\n",
              "      \n",
              "  <style>\n",
              "    .colab-df-container {\n",
              "      display:flex;\n",
              "      flex-wrap:wrap;\n",
              "      gap: 12px;\n",
              "    }\n",
              "\n",
              "    .colab-df-convert {\n",
              "      background-color: #E8F0FE;\n",
              "      border: none;\n",
              "      border-radius: 50%;\n",
              "      cursor: pointer;\n",
              "      display: none;\n",
              "      fill: #1967D2;\n",
              "      height: 32px;\n",
              "      padding: 0 0 0 0;\n",
              "      width: 32px;\n",
              "    }\n",
              "\n",
              "    .colab-df-convert:hover {\n",
              "      background-color: #E2EBFA;\n",
              "      box-shadow: 0px 1px 2px rgba(60, 64, 67, 0.3), 0px 1px 3px 1px rgba(60, 64, 67, 0.15);\n",
              "      fill: #174EA6;\n",
              "    }\n",
              "\n",
              "    [theme=dark] .colab-df-convert {\n",
              "      background-color: #3B4455;\n",
              "      fill: #D2E3FC;\n",
              "    }\n",
              "\n",
              "    [theme=dark] .colab-df-convert:hover {\n",
              "      background-color: #434B5C;\n",
              "      box-shadow: 0px 1px 3px 1px rgba(0, 0, 0, 0.15);\n",
              "      filter: drop-shadow(0px 1px 2px rgba(0, 0, 0, 0.3));\n",
              "      fill: #FFFFFF;\n",
              "    }\n",
              "  </style>\n",
              "\n",
              "      <script>\n",
              "        const buttonEl =\n",
              "          document.querySelector('#df-0b165ca7-7290-4fb6-a4c9-b77d43fdebce button.colab-df-convert');\n",
              "        buttonEl.style.display =\n",
              "          google.colab.kernel.accessAllowed ? 'block' : 'none';\n",
              "\n",
              "        async function convertToInteractive(key) {\n",
              "          const element = document.querySelector('#df-0b165ca7-7290-4fb6-a4c9-b77d43fdebce');\n",
              "          const dataTable =\n",
              "            await google.colab.kernel.invokeFunction('convertToInteractive',\n",
              "                                                     [key], {});\n",
              "          if (!dataTable) return;\n",
              "\n",
              "          const docLinkHtml = 'Like what you see? Visit the ' +\n",
              "            '<a target=\"_blank\" href=https://colab.research.google.com/notebooks/data_table.ipynb>data table notebook</a>'\n",
              "            + ' to learn more about interactive tables.';\n",
              "          element.innerHTML = '';\n",
              "          dataTable['output_type'] = 'display_data';\n",
              "          await google.colab.output.renderOutput(dataTable, element);\n",
              "          const docLink = document.createElement('div');\n",
              "          docLink.innerHTML = docLinkHtml;\n",
              "          element.appendChild(docLink);\n",
              "        }\n",
              "      </script>\n",
              "    </div>\n",
              "  </div>\n",
              "  "
            ]
          },
          "metadata": {},
          "execution_count": 225
        }
      ]
    },
    {
      "cell_type": "code",
      "source": [
        "# Drop unnecessary columns\n",
        "park_stats = park_stats.drop(columns=['Rk', 'G', 'PA', 'R', '2B', '3B', 'RBI',\n",
        "                                      'OBP', 'SLG', 'OPS', 'GDP', 'HBP', 'SH',\n",
        "                                      'SF', 'IBB', 'ROE', 'BAbip', 'tOPS+',\n",
        "                                      'sOPS+'], axis=1)\n",
        "\n",
        "# Rename this column for the purpose of clarity \n",
        "park_stats = park_stats.rename(columns = {'Split':'Stadium'})"
      ],
      "metadata": {
        "id": "wrlzKBac3TVJ"
      },
      "execution_count": 226,
      "outputs": []
    },
    {
      "cell_type": "markdown",
      "source": [
        "A handful of stadiums in this dataset are neutral sites that are not the home ballpark of an MLB team, along with some that are no longer in use as they've been replaced within the past 5 years. We only care about the current 30 home stadiums, so let's remove everything else. Additionally, some stadiums have changed their name in the past 5 years. We do not want the old and new name to be treated as 2 separate stadiums, so let's convert all old stadium names to their new ones."
      ],
      "metadata": {
        "id": "x1P8B_xCuw-2"
      }
    },
    {
      "cell_type": "code",
      "source": [
        "# Convert all old stadium names to new ones.\n",
        "park_stats['Stadium'] = park_stats['Stadium'].replace({\n",
        "    'MIL-Miller Pk':'MIL-Am Fam Field',\n",
        "    'MIA-Marlins Pk':'MIA-loanDepot pk',\n",
        "    'ATL-SunTrust Pk':'ATL-Truist Pk',\n",
        "    'SFG-AT&T Pk':'SFG-Oracle Park',\n",
        "    'SEA-Safeco Fld':'SEA-T-Mobile Pk',\n",
        "    'OAK-Oakland Col':'OAK-Coliseum'})\n",
        "\n",
        "# The 30 current MLB ballparks. Keep only these.\n",
        "mlb_parks = ['KCR-KauffmanStad', 'TEX-GlbLifeField', 'WSN-Natls Park',\n",
        "       'ATL-Truist Pk', 'CLE-Progressive','BAL-Camden Yards', 'TOR-Rogers Ctr',\n",
        "       'LAD-Dodger Stad','CIN-GreatAmer BP', 'ARI-Chase Field','BOS-Fenway Pk',\n",
        "       'SEA-T-Mobile Pk','MIN-Target Field', 'COL-Coors Fld','LAA-Angel Stad',\n",
        "       'STL-Busch Stad ','DET-Comerica Pk','NYM-Citi Field', 'SDP-Petco Pk',\n",
        "       'CHW-Guaranteed','SFG-Oracle Park', 'PHI-CitizensBank', 'NYY-Yankee Stad',\n",
        "       'CHC-Wrigley Fld', 'HOU-MinuteMaidPk', 'MIL-Am Fam Field',\n",
        "       'TBR-TropicanaFld', 'PIT-PNC Pk','OAK-Coliseum','MIA-loanDepot pk']\n",
        "\n",
        "park_stats = park_stats[park_stats['Stadium'].isin(mlb_parks)]"
      ],
      "metadata": {
        "id": "yUBd4UHHvPMz"
      },
      "execution_count": 227,
      "outputs": []
    },
    {
      "cell_type": "code",
      "source": [
        "# All dtypes appear to be set properly\n",
        "display(park_stats.head())\n",
        "display(park_stats.dtypes)"
      ],
      "metadata": {
        "colab": {
          "base_uri": "https://localhost:8080/",
          "height": 362
        },
        "id": "tjvetzU-6W4I",
        "outputId": "f15a800f-7d99-4944-febf-2e0277df0894"
      },
      "execution_count": 228,
      "outputs": [
        {
          "output_type": "display_data",
          "data": {
            "text/plain": [
              "            Player           Stadium  Year   AB    H  HR     BA   TB\n",
              "0  Whit Merrifield  KCR-KauffmanStad  2021  333   95   5  0.285  135\n",
              "1  Whit Merrifield  KCR-KauffmanStad  2019  330  101   4  0.306  144\n",
              "2    Marcus Semien  TEX-GlbLifeField  2022  324   68  10  0.210  115\n",
              "3      Trea Turner    WSN-Natls Park  2018  323   91  10  0.282  139\n",
              "4     Ozzie Albies     ATL-Truist Pk  2021  319   89  17  0.279  172"
            ],
            "text/html": [
              "\n",
              "  <div id=\"df-cc979d29-49e8-46df-a926-664b904d21e4\">\n",
              "    <div class=\"colab-df-container\">\n",
              "      <div>\n",
              "<style scoped>\n",
              "    .dataframe tbody tr th:only-of-type {\n",
              "        vertical-align: middle;\n",
              "    }\n",
              "\n",
              "    .dataframe tbody tr th {\n",
              "        vertical-align: top;\n",
              "    }\n",
              "\n",
              "    .dataframe thead th {\n",
              "        text-align: right;\n",
              "    }\n",
              "</style>\n",
              "<table border=\"1\" class=\"dataframe\">\n",
              "  <thead>\n",
              "    <tr style=\"text-align: right;\">\n",
              "      <th></th>\n",
              "      <th>Player</th>\n",
              "      <th>Stadium</th>\n",
              "      <th>Year</th>\n",
              "      <th>AB</th>\n",
              "      <th>H</th>\n",
              "      <th>HR</th>\n",
              "      <th>BA</th>\n",
              "      <th>TB</th>\n",
              "    </tr>\n",
              "  </thead>\n",
              "  <tbody>\n",
              "    <tr>\n",
              "      <th>0</th>\n",
              "      <td>Whit Merrifield</td>\n",
              "      <td>KCR-KauffmanStad</td>\n",
              "      <td>2021</td>\n",
              "      <td>333</td>\n",
              "      <td>95</td>\n",
              "      <td>5</td>\n",
              "      <td>0.285</td>\n",
              "      <td>135</td>\n",
              "    </tr>\n",
              "    <tr>\n",
              "      <th>1</th>\n",
              "      <td>Whit Merrifield</td>\n",
              "      <td>KCR-KauffmanStad</td>\n",
              "      <td>2019</td>\n",
              "      <td>330</td>\n",
              "      <td>101</td>\n",
              "      <td>4</td>\n",
              "      <td>0.306</td>\n",
              "      <td>144</td>\n",
              "    </tr>\n",
              "    <tr>\n",
              "      <th>2</th>\n",
              "      <td>Marcus Semien</td>\n",
              "      <td>TEX-GlbLifeField</td>\n",
              "      <td>2022</td>\n",
              "      <td>324</td>\n",
              "      <td>68</td>\n",
              "      <td>10</td>\n",
              "      <td>0.210</td>\n",
              "      <td>115</td>\n",
              "    </tr>\n",
              "    <tr>\n",
              "      <th>3</th>\n",
              "      <td>Trea Turner</td>\n",
              "      <td>WSN-Natls Park</td>\n",
              "      <td>2018</td>\n",
              "      <td>323</td>\n",
              "      <td>91</td>\n",
              "      <td>10</td>\n",
              "      <td>0.282</td>\n",
              "      <td>139</td>\n",
              "    </tr>\n",
              "    <tr>\n",
              "      <th>4</th>\n",
              "      <td>Ozzie Albies</td>\n",
              "      <td>ATL-Truist Pk</td>\n",
              "      <td>2021</td>\n",
              "      <td>319</td>\n",
              "      <td>89</td>\n",
              "      <td>17</td>\n",
              "      <td>0.279</td>\n",
              "      <td>172</td>\n",
              "    </tr>\n",
              "  </tbody>\n",
              "</table>\n",
              "</div>\n",
              "      <button class=\"colab-df-convert\" onclick=\"convertToInteractive('df-cc979d29-49e8-46df-a926-664b904d21e4')\"\n",
              "              title=\"Convert this dataframe to an interactive table.\"\n",
              "              style=\"display:none;\">\n",
              "        \n",
              "  <svg xmlns=\"http://www.w3.org/2000/svg\" height=\"24px\"viewBox=\"0 0 24 24\"\n",
              "       width=\"24px\">\n",
              "    <path d=\"M0 0h24v24H0V0z\" fill=\"none\"/>\n",
              "    <path d=\"M18.56 5.44l.94 2.06.94-2.06 2.06-.94-2.06-.94-.94-2.06-.94 2.06-2.06.94zm-11 1L8.5 8.5l.94-2.06 2.06-.94-2.06-.94L8.5 2.5l-.94 2.06-2.06.94zm10 10l.94 2.06.94-2.06 2.06-.94-2.06-.94-.94-2.06-.94 2.06-2.06.94z\"/><path d=\"M17.41 7.96l-1.37-1.37c-.4-.4-.92-.59-1.43-.59-.52 0-1.04.2-1.43.59L10.3 9.45l-7.72 7.72c-.78.78-.78 2.05 0 2.83L4 21.41c.39.39.9.59 1.41.59.51 0 1.02-.2 1.41-.59l7.78-7.78 2.81-2.81c.8-.78.8-2.07 0-2.86zM5.41 20L4 18.59l7.72-7.72 1.47 1.35L5.41 20z\"/>\n",
              "  </svg>\n",
              "      </button>\n",
              "      \n",
              "  <style>\n",
              "    .colab-df-container {\n",
              "      display:flex;\n",
              "      flex-wrap:wrap;\n",
              "      gap: 12px;\n",
              "    }\n",
              "\n",
              "    .colab-df-convert {\n",
              "      background-color: #E8F0FE;\n",
              "      border: none;\n",
              "      border-radius: 50%;\n",
              "      cursor: pointer;\n",
              "      display: none;\n",
              "      fill: #1967D2;\n",
              "      height: 32px;\n",
              "      padding: 0 0 0 0;\n",
              "      width: 32px;\n",
              "    }\n",
              "\n",
              "    .colab-df-convert:hover {\n",
              "      background-color: #E2EBFA;\n",
              "      box-shadow: 0px 1px 2px rgba(60, 64, 67, 0.3), 0px 1px 3px 1px rgba(60, 64, 67, 0.15);\n",
              "      fill: #174EA6;\n",
              "    }\n",
              "\n",
              "    [theme=dark] .colab-df-convert {\n",
              "      background-color: #3B4455;\n",
              "      fill: #D2E3FC;\n",
              "    }\n",
              "\n",
              "    [theme=dark] .colab-df-convert:hover {\n",
              "      background-color: #434B5C;\n",
              "      box-shadow: 0px 1px 3px 1px rgba(0, 0, 0, 0.15);\n",
              "      filter: drop-shadow(0px 1px 2px rgba(0, 0, 0, 0.3));\n",
              "      fill: #FFFFFF;\n",
              "    }\n",
              "  </style>\n",
              "\n",
              "      <script>\n",
              "        const buttonEl =\n",
              "          document.querySelector('#df-cc979d29-49e8-46df-a926-664b904d21e4 button.colab-df-convert');\n",
              "        buttonEl.style.display =\n",
              "          google.colab.kernel.accessAllowed ? 'block' : 'none';\n",
              "\n",
              "        async function convertToInteractive(key) {\n",
              "          const element = document.querySelector('#df-cc979d29-49e8-46df-a926-664b904d21e4');\n",
              "          const dataTable =\n",
              "            await google.colab.kernel.invokeFunction('convertToInteractive',\n",
              "                                                     [key], {});\n",
              "          if (!dataTable) return;\n",
              "\n",
              "          const docLinkHtml = 'Like what you see? Visit the ' +\n",
              "            '<a target=\"_blank\" href=https://colab.research.google.com/notebooks/data_table.ipynb>data table notebook</a>'\n",
              "            + ' to learn more about interactive tables.';\n",
              "          element.innerHTML = '';\n",
              "          dataTable['output_type'] = 'display_data';\n",
              "          await google.colab.output.renderOutput(dataTable, element);\n",
              "          const docLink = document.createElement('div');\n",
              "          docLink.innerHTML = docLinkHtml;\n",
              "          element.appendChild(docLink);\n",
              "        }\n",
              "      </script>\n",
              "    </div>\n",
              "  </div>\n",
              "  "
            ]
          },
          "metadata": {}
        },
        {
          "output_type": "display_data",
          "data": {
            "text/plain": [
              "Player      object\n",
              "Stadium     object\n",
              "Year         int64\n",
              "AB           int64\n",
              "H            int64\n",
              "HR           int64\n",
              "BA         float64\n",
              "TB           int64\n",
              "dtype: object"
            ]
          },
          "metadata": {}
        }
      ]
    },
    {
      "cell_type": "markdown",
      "source": [
        "## **EDA (Exploratory Data Analysis)**\n",
        "\n",
        "Now that our data is tidy, we can do some EDA. First, let's look at the total batting averages in each stadium over the last 5 years. We will have to perform a simple calculation here - we cannot simply average the individual player batting averages because they will not be weighted properly based on number of at-bats."
      ],
      "metadata": {
        "id": "Cmb6aGufTLNb"
      }
    },
    {
      "cell_type": "code",
      "source": [
        "df = park_stats.groupby('Stadium')\n",
        "averages = (df['H'].sum()/df['AB'].sum()).sort_values(ascending=False)  # Total Hits / Total At-Bats\n",
        "display(averages)"
      ],
      "metadata": {
        "colab": {
          "base_uri": "https://localhost:8080/",
          "height": 572
        },
        "id": "6Q84aBoAURHi",
        "outputId": "454012da-8138-4d34-c2ba-5019190cf224"
      },
      "execution_count": null,
      "outputs": [
        {
          "output_type": "display_data",
          "data": {
            "text/plain": [
              "Stadium\n",
              "COL-Coors Fld       0.288776\n",
              "BOS-Fenway Pk       0.274013\n",
              "KCR-KauffmanStad    0.266241\n",
              "WSN-Natls Park      0.262320\n",
              "BAL-Camden Yards    0.260112\n",
              "CIN-GreatAmer BP    0.257818\n",
              "ATL-Truist Pk       0.256085\n",
              "PIT-PNC Pk          0.255879\n",
              "MIN-Target Field    0.255741\n",
              "PHI-CitizensBank    0.254989\n",
              "ARI-Chase Field     0.253691\n",
              "DET-Comerica Pk     0.253533\n",
              "CHC-Wrigley Fld     0.252291\n",
              "TOR-Rogers Ctr      0.250461\n",
              "CHW-Guaranteed      0.250440\n",
              "SFG-Oracle Park     0.248854\n",
              "STL-Busch Stad      0.247904\n",
              "MIA-loanDepot pk    0.247723\n",
              "LAA-Angel Stad      0.247682\n",
              "CLE-Progressive     0.246885\n",
              "TEX-GlbLifeField    0.245511\n",
              "LAD-Dodger Stad     0.245142\n",
              "HOU-MinuteMaidPk    0.244557\n",
              "NYY-Yankee Stad     0.244212\n",
              "NYM-Citi Field      0.243153\n",
              "SDP-Petco Pk        0.241133\n",
              "MIL-Am Fam Field    0.240144\n",
              "OAK-Coliseum        0.238223\n",
              "TBR-TropicanaFld    0.237710\n",
              "SEA-T-Mobile Pk     0.237673\n",
              "dtype: float64"
            ]
          },
          "metadata": {}
        }
      ]
    },
    {
      "cell_type": "code",
      "source": [
        "averages.plot.bar(ylabel='Batting Average', figsize=(20, 10));"
      ],
      "metadata": {
        "colab": {
          "base_uri": "https://localhost:8080/",
          "height": 638
        },
        "id": "N52lDC_sWWQp",
        "outputId": "67881d35-f58d-46bd-ef56-45a4257ffc00"
      },
      "execution_count": 229,
      "outputs": [
        {
          "output_type": "display_data",
          "data": {
            "text/plain": [
              "<Figure size 1440x720 with 1 Axes>"
            ],
            "image/png": "[encoded data removed]"
          },
          "metadata": {
            "needs_background": "light"
          }
        }
      ]
    },
    {
      "cell_type": "markdown",
      "source": [
        "Coors Field leads the way with a batting average of 0.289 over the past 5 years, while Seattle's T-Mobile Park has the lowest batting average at 0.238. It will be interesting to see how these rankings change once we factor in the expected performance of the players who batted in each of the stadiums."
      ],
      "metadata": {
        "id": "1EqtFY4cfOh6"
      }
    },
    {
      "cell_type": "markdown",
      "source": [
        "Now, let's see what happens if we use total bases as a proxy for hitting success rather than batting average."
      ],
      "metadata": {
        "id": "8D-Vn_JyjBa9"
      }
    },
    {
      "cell_type": "code",
      "source": [
        "# Calculate the total bases per at-bat in each stadium. (Total Bases / Total At-Bats)\n",
        "total_bases = (df['TB'].sum()/df['AB'].sum()).sort_values(ascending=False) \n",
        "display(total_bases)"
      ],
      "metadata": {
        "colab": {
          "base_uri": "https://localhost:8080/",
          "height": 572
        },
        "id": "EP5cg9u4jCtP",
        "outputId": "f55a6d11-dd3b-44d1-b773-cfe6c4f03e42"
      },
      "execution_count": 230,
      "outputs": [
        {
          "output_type": "display_data",
          "data": {
            "text/plain": [
              "Stadium\n",
              "COL-Coors Fld       0.492809\n",
              "BOS-Fenway Pk       0.460134\n",
              "CIN-GreatAmer BP    0.452794\n",
              "BAL-Camden Yards    0.444439\n",
              "WSN-Natls Park      0.443082\n",
              "TOR-Rogers Ctr      0.439168\n",
              "LAD-Dodger Stad     0.438035\n",
              "PHI-CitizensBank    0.437300\n",
              "ATL-Truist Pk       0.433711\n",
              "MIN-Target Field    0.430263\n",
              "NYY-Yankee Stad     0.430058\n",
              "LAA-Angel Stad      0.427521\n",
              "CHC-Wrigley Fld     0.423809\n",
              "ARI-Chase Field     0.423157\n",
              "KCR-KauffmanStad    0.420300\n",
              "HOU-MinuteMaidPk    0.419933\n",
              "MIL-Am Fam Field    0.418975\n",
              "CHW-Guaranteed      0.418853\n",
              "PIT-PNC Pk          0.413874\n",
              "CLE-Progressive     0.413551\n",
              "DET-Comerica Pk     0.409166\n",
              "TEX-GlbLifeField    0.407487\n",
              "SFG-Oracle Park     0.402915\n",
              "SEA-T-Mobile Pk     0.401803\n",
              "SDP-Petco Pk        0.401016\n",
              "NYM-Citi Field      0.400400\n",
              "STL-Busch Stad      0.398201\n",
              "OAK-Coliseum        0.397671\n",
              "MIA-loanDepot pk    0.395784\n",
              "TBR-TropicanaFld    0.393275\n",
              "dtype: float64"
            ]
          },
          "metadata": {}
        }
      ]
    },
    {
      "cell_type": "code",
      "source": [
        "total_bases.plot.bar(ylabel='Total Bases / At-Bat', figsize=(20, 10));"
      ],
      "metadata": {
        "colab": {
          "base_uri": "https://localhost:8080/",
          "height": 641
        },
        "id": "a0Du1qsdjpVF",
        "outputId": "1900bed9-a261-4e3f-b968-354fdb48ee8e"
      },
      "execution_count": 231,
      "outputs": [
        {
          "output_type": "display_data",
          "data": {
            "text/plain": [
              "<Figure size 1440x720 with 1 Axes>"
            ],
            "image/png": "[encoded data removed]"
          },
          "metadata": {
            "needs_background": "light"
          }
        }
      ]
    },
    {
      "cell_type": "markdown",
      "source": [
        "Interestingly, the plots for batting average and total bases are very similar. Coors Field and Fenway Park once again earn ranks 1 and 2, while Tropicana Field has the lowest total bases per at-bat."
      ],
      "metadata": {
        "id": "ltWiD_Pvo7Dc"
      }
    },
    {
      "cell_type": "markdown",
      "source": [
        "We can do the same for home runs."
      ],
      "metadata": {
        "id": "LX3rSGZRx3Sv"
      }
    },
    {
      "cell_type": "code",
      "source": [
        "hr = (df['HR'].sum()/df['AB'].sum()).sort_values(ascending=False) \n",
        "display(hr)"
      ],
      "metadata": {
        "colab": {
          "base_uri": "https://localhost:8080/",
          "height": 572
        },
        "id": "XJOTeVgAtow6",
        "outputId": "22dea1ae-3b5b-4fce-f7b9-0e9085e75710"
      },
      "execution_count": 232,
      "outputs": [
        {
          "output_type": "display_data",
          "data": {
            "text/plain": [
              "Stadium\n",
              "CIN-GreatAmer BP    0.046030\n",
              "NYY-Yankee Stad     0.045768\n",
              "LAD-Dodger Stad     0.045555\n",
              "BAL-Camden Yards    0.042883\n",
              "TOR-Rogers Ctr      0.042377\n",
              "LAA-Angel Stad      0.041609\n",
              "MIL-Am Fam Field    0.041448\n",
              "COL-Coors Fld       0.041220\n",
              "PHI-CitizensBank    0.040256\n",
              "HOU-MinuteMaidPk    0.039935\n",
              "WSN-Natls Park      0.039889\n",
              "ATL-Truist Pk       0.039103\n",
              "CHW-Guaranteed      0.039007\n",
              "MIN-Target Field    0.037733\n",
              "SEA-T-Mobile Pk     0.037634\n",
              "CHC-Wrigley Fld     0.037365\n",
              "TEX-GlbLifeField    0.036541\n",
              "BOS-Fenway Pk       0.036436\n",
              "CLE-Progressive     0.036166\n",
              "NYM-Citi Field      0.035337\n",
              "SDP-Petco Pk        0.035015\n",
              "ARI-Chase Field     0.033303\n",
              "OAK-Coliseum        0.033078\n",
              "STL-Busch Stad      0.032620\n",
              "TBR-TropicanaFld    0.031711\n",
              "PIT-PNC Pk          0.030423\n",
              "DET-Comerica Pk     0.029714\n",
              "SFG-Oracle Park     0.029635\n",
              "KCR-KauffmanStad    0.029333\n",
              "MIA-loanDepot pk    0.029129\n",
              "dtype: float64"
            ]
          },
          "metadata": {}
        }
      ]
    },
    {
      "cell_type": "code",
      "source": [
        "hr.plot.bar(ylabel='Home Runs / At-Bat',figsize=(20, 10));"
      ],
      "metadata": {
        "colab": {
          "base_uri": "https://localhost:8080/",
          "height": 638
        },
        "id": "r3UrJwXVuOXu",
        "outputId": "16df486f-f784-4c39-a365-cac898ea846f"
      },
      "execution_count": 233,
      "outputs": [
        {
          "output_type": "display_data",
          "data": {
            "text/plain": [
              "<Figure size 1440x720 with 1 Axes>"
            ],
            "image/png": "[encoded data removed]"
          },
          "metadata": {
            "needs_background": "light"
          }
        }
      ]
    },
    {
      "cell_type": "markdown",
      "source": [
        "Home runs by stadium look very different than batting average and total bases - Great American Ball Park has the most home runs per at-bat with 0.046, with Yankee Stadium close behind. Once again, it will be interesting to see how this changes when we control for the quality of hitters that hit in each stadium."
      ],
      "metadata": {
        "id": "kA7l-Zbvx_78"
      }
    },
    {
      "cell_type": "markdown",
      "source": [
        "In conclusion, these plots tell us which stadiums have generally hosted the most offensive success over the past 5 seasons. But, we cannot attribute this success to the stadium itself until we factor in the expected performance of each player."
      ],
      "metadata": {
        "id": "MUXnYuzN5-2r"
      }
    },
    {
      "cell_type": "code",
      "source": [
        "%%shell\n",
        "jupyter nbconvert --to html /content/DS_Milestone_1.ipynb"
      ],
      "metadata": {
        "colab": {
          "base_uri": "https://localhost:8080/"
        },
        "id": "L124WMD3ACKR",
        "outputId": "fc69ffd1-5423-427e-b124-307dd44f8a2c"
      },
      "execution_count": null,
      "outputs": [
        {
          "output_type": "stream",
          "name": "stdout",
          "text": [
            "[NbConvertApp] Converting notebook /content/DS_Milestone_1.ipynb to html\n",
            "[NbConvertApp] Writing 451491 bytes to /content/DS_Milestone_1.html\n"
          ]
        },
        {
          "output_type": "execute_result",
          "data": {
            "text/plain": []
          },
          "metadata": {},
          "execution_count": 224
        }
      ]
    }
  ]
}